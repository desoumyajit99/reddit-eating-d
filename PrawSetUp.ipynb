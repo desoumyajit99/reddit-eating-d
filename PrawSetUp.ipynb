{
 "cells": [
  {
   "cell_type": "code",
   "execution_count": 1,
   "id": "bdaad98e",
   "metadata": {},
   "outputs": [],
   "source": [
    "import praw\n",
    "import json\n"
   ]
  },
  {
   "cell_type": "code",
   "execution_count": null,
   "id": "916662a8",
   "metadata": {},
   "outputs": [],
   "source": [
    "#read-only reddit instance\n",
    "reddit = praw.Reddit(\n",
    "    client_id=\"MoCScuU1l_8VY2_OJ1_0Zg\",\n",
    "    client_secret=\"bWE5ZV1KtIVpvDVpIK8yWoRx3gsN3g\",\n",
    "    user_agent=\"Far-Level-5093\",\n",
    ")\n"
   ]
  },
  {
   "cell_type": "code",
   "execution_count": 8,
   "id": "766a5c0b",
   "metadata": {},
   "outputs": [
    {
     "name": "stdout",
     "output_type": "stream",
     "text": [
      "True\n"
     ]
    }
   ],
   "source": [
    "#testing\n",
    "print(reddit.read_only)\n"
   ]
  },
  {
   "cell_type": "code",
   "execution_count": 9,
   "id": "9a8d563b",
   "metadata": {},
   "outputs": [
    {
     "name": "stdout",
     "output_type": "stream",
     "text": [
      "pessimistic_witch\n",
      "CasperMikko\n",
      "loverboi3\n",
      "BloomingInTheVoid\n",
      "icanttkaeitanymore\n",
      "GuilefulEyes\n",
      "acoolrock\n",
      "wompwomp_e\n",
      "Squidd_Vicious\n",
      "Snap-Crackle-Plop-\n",
      "Snap-Crackle-Plop-\n",
      "alexisseffy\n",
      "alexisseffy\n",
      "LaaaaMaaaa\n",
      "birb-jesus\n",
      "mmmheadphones\n",
      "aqua4cry\n",
      "Ashamed_Ad8162\n",
      "Entire_Weather3209\n",
      "cupidhurts\n",
      "questbarsryummy\n",
      "untakenusername42658\n",
      "stevenator3162\n",
      "-mosaicaxolotl-\n",
      "vi-lavender\n",
      "_AroAce_in_space_\n",
      "MommyIssuesPrincess\n",
      "LogicalWolverine8150\n",
      "WoebegoneWoodlouse\n",
      "Ok_Credit_950\n",
      "KlausMikaelsonsWife\n",
      "uselespieceofshi02\n",
      "No_Astronomer656\n",
      "BloomingInTheVoid\n",
      "MortalPersimmonLover\n",
      "debrayoubitch\n",
      "kereur\n",
      "tzt-t\n",
      "alx16842\n",
      "alx16842\n"
     ]
    }
   ],
   "source": [
    "for submission in reddit.subreddit(\"EDanonymemes\").new(limit=40):\n",
    "    print(submission.author)\n",
    "#    print(submission.title)\n",
    "#    print(submission.selftext)\n",
    "#    print(\"\\n\\033[33mPost identifying information:\\033[0m\")\n",
    "#    print(submission.url)\n",
    "#    print(submission.id)\n",
    "\n"
   ]
  },
  {
   "cell_type": "code",
   "execution_count": 11,
   "id": "964231be",
   "metadata": {},
   "outputs": [
    {
     "name": "stdout",
     "output_type": "stream",
     "text": [
      "['pessimistic_witch', 'loverboi3', 'BloomingInTheVoid', 'icanttkaeitanymore', 'GuilefulEyes', 'acoolrock', 'wompwomp_e', 'Squidd_Vicious', 'Snap-Crackle-Plop-', 'Snap-Crackle-Plop-', 'alexisseffy', 'alexisseffy', 'LaaaaMaaaa', 'birb-jesus', 'mmmheadphones', 'aqua4cry', 'Ashamed_Ad8162', 'Entire_Weather3209', 'cupidhurts', 'questbarsryummy', 'untakenusername42658', 'stevenator3162', '-mosaicaxolotl-', 'vi-lavender', '_AroAce_in_space_', 'MommyIssuesPrincess', 'LogicalWolverine8150', 'WoebegoneWoodlouse', 'Ok_Credit_950', 'KlausMikaelsonsWife', 'uselespieceofshi02', 'No_Astronomer656', 'BloomingInTheVoid', 'MortalPersimmonLover', 'debrayoubitch', 'kereur', 'tzt-t', 'alx16842', 'alx16842', 'alx16842']\n"
     ]
    }
   ],
   "source": [
    "authors = []\n",
    "\n",
    "for submission in reddit.subreddit(\"EDanonymemes\").new(limit=40):\n",
    "    authors.append(str(submission.author))\n",
    "\n",
    "print(authors)\n",
    "\n",
    "with open(\"authors.json\", \"w\", encoding=\"utf-8\") as f:\n",
    "    json.dump(authors, f)"
   ]
  },
  {
   "cell_type": "code",
   "execution_count": null,
   "id": "a750a9de",
   "metadata": {},
   "outputs": [
    {
     "name": "stdout",
     "output_type": "stream",
     "text": [
      "Saved subreddit mapping for 35 users to user_subreddits.json\n"
     ]
    }
   ],
   "source": [
    "#mapping authors to subreddits\n",
    "user_subreddits = {}\n",
    "for username in authors:\n",
    "    try:\n",
    "        redditor = reddit.redditor(username)\n",
    "        subreddits = []\n",
    "        for subm in redditor.submissions.new(limit=50):\n",
    "            name = str(subm.subreddit.display_name)\n",
    "            if name not in subreddits:\n",
    "                subreddits.append(name)\n",
    "        user_subreddits[username] = subreddits\n",
    "    except Exception as e:\n",
    "        print(f\"Skipping {username}: {e}\")\n",
    "\n",
    "# Save the mapping\n",
    "with open(\"user_subreddits.json\", \"w\", encoding=\"utf-8\") as f:\n",
    "    json.dump(user_subreddits, f, ensure_ascii=False, indent=4)\n",
    "\n",
    "print(f\"Saved subreddit mapping for {len(user_subreddits)} users to user_subreddits.json\")"
   ]
  }
 ],
 "metadata": {
  "kernelspec": {
   "display_name": "eatingd-BBfbkbyC-py3.13",
   "language": "python",
   "name": "python3"
  },
  "language_info": {
   "codemirror_mode": {
    "name": "ipython",
    "version": 3
   },
   "file_extension": ".py",
   "mimetype": "text/x-python",
   "name": "python",
   "nbconvert_exporter": "python",
   "pygments_lexer": "ipython3",
   "version": "3.13.5"
  }
 },
 "nbformat": 4,
 "nbformat_minor": 5
}
